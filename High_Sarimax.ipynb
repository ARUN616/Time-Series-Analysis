{
 "cells": [
  {
   "cell_type": "code",
   "execution_count": 8,
   "id": "2c54dc00-68b6-4cad-ba84-1150a83f3334",
   "metadata": {},
   "outputs": [],
   "source": [
    "import pandas as pd"
   ]
  },
  {
   "cell_type": "code",
   "execution_count": 10,
   "id": "8dd62262-bba2-4e59-837e-1f28f6792111",
   "metadata": {},
   "outputs": [],
   "source": [
    "dataset=pd.read_csv(\"Tatacoffee13_21.csv\")"
   ]
  },
  {
   "cell_type": "code",
   "execution_count": 12,
   "id": "82d7fa8e-8d0a-40b4-961f-fbc00d97d188",
   "metadata": {},
   "outputs": [
    {
     "data": {
      "text/html": [
       "<div>\n",
       "<style scoped>\n",
       "    .dataframe tbody tr th:only-of-type {\n",
       "        vertical-align: middle;\n",
       "    }\n",
       "\n",
       "    .dataframe tbody tr th {\n",
       "        vertical-align: top;\n",
       "    }\n",
       "\n",
       "    .dataframe thead th {\n",
       "        text-align: right;\n",
       "    }\n",
       "</style>\n",
       "<table border=\"1\" class=\"dataframe\">\n",
       "  <thead>\n",
       "    <tr style=\"text-align: right;\">\n",
       "      <th></th>\n",
       "      <th>Date</th>\n",
       "      <th>Open</th>\n",
       "      <th>High</th>\n",
       "      <th>Low</th>\n",
       "      <th>Close</th>\n",
       "    </tr>\n",
       "  </thead>\n",
       "  <tbody>\n",
       "    <tr>\n",
       "      <th>0</th>\n",
       "      <td>2013-01-01</td>\n",
       "      <td>1410.60</td>\n",
       "      <td>1427.9</td>\n",
       "      <td>1408.30</td>\n",
       "      <td>1415.1</td>\n",
       "    </tr>\n",
       "    <tr>\n",
       "      <th>1</th>\n",
       "      <td>2013-01-02</td>\n",
       "      <td>1421.00</td>\n",
       "      <td>1626.6</td>\n",
       "      <td>1416.15</td>\n",
       "      <td>1607.4</td>\n",
       "    </tr>\n",
       "    <tr>\n",
       "      <th>2</th>\n",
       "      <td>2013-01-03</td>\n",
       "      <td>1632.55</td>\n",
       "      <td>1673.9</td>\n",
       "      <td>1613.05</td>\n",
       "      <td>1626.2</td>\n",
       "    </tr>\n",
       "  </tbody>\n",
       "</table>\n",
       "</div>"
      ],
      "text/plain": [
       "         Date     Open    High      Low   Close\n",
       "0  2013-01-01  1410.60  1427.9  1408.30  1415.1\n",
       "1  2013-01-02  1421.00  1626.6  1416.15  1607.4\n",
       "2  2013-01-03  1632.55  1673.9  1613.05  1626.2"
      ]
     },
     "execution_count": 12,
     "metadata": {},
     "output_type": "execute_result"
    }
   ],
   "source": [
    "dataset.head(3)"
   ]
  },
  {
   "cell_type": "code",
   "execution_count": 17,
   "id": "5b92ffe0-6500-46e9-b80d-26cf41892b3f",
   "metadata": {},
   "outputs": [],
   "source": [
    "dataset.index=pd.to_datetime(dataset['Date'])"
   ]
  },
  {
   "cell_type": "code",
   "execution_count": 23,
   "id": "b920dea4-e3a2-46ea-88d1-ec9e58271a55",
   "metadata": {},
   "outputs": [
    {
     "data": {
      "text/html": [
       "<div>\n",
       "<style scoped>\n",
       "    .dataframe tbody tr th:only-of-type {\n",
       "        vertical-align: middle;\n",
       "    }\n",
       "\n",
       "    .dataframe tbody tr th {\n",
       "        vertical-align: top;\n",
       "    }\n",
       "\n",
       "    .dataframe thead th {\n",
       "        text-align: right;\n",
       "    }\n",
       "</style>\n",
       "<table border=\"1\" class=\"dataframe\">\n",
       "  <thead>\n",
       "    <tr style=\"text-align: right;\">\n",
       "      <th></th>\n",
       "      <th>Open</th>\n",
       "      <th>High</th>\n",
       "      <th>Low</th>\n",
       "      <th>Close</th>\n",
       "    </tr>\n",
       "    <tr>\n",
       "      <th>Date</th>\n",
       "      <th></th>\n",
       "      <th></th>\n",
       "      <th></th>\n",
       "      <th></th>\n",
       "    </tr>\n",
       "  </thead>\n",
       "  <tbody>\n",
       "    <tr>\n",
       "      <th>2013-01-01</th>\n",
       "      <td>1410.60</td>\n",
       "      <td>1427.9</td>\n",
       "      <td>1408.30</td>\n",
       "      <td>1415.1</td>\n",
       "    </tr>\n",
       "    <tr>\n",
       "      <th>2013-01-02</th>\n",
       "      <td>1421.00</td>\n",
       "      <td>1626.6</td>\n",
       "      <td>1416.15</td>\n",
       "      <td>1607.4</td>\n",
       "    </tr>\n",
       "    <tr>\n",
       "      <th>2013-01-03</th>\n",
       "      <td>1632.55</td>\n",
       "      <td>1673.9</td>\n",
       "      <td>1613.05</td>\n",
       "      <td>1626.2</td>\n",
       "    </tr>\n",
       "  </tbody>\n",
       "</table>\n",
       "</div>"
      ],
      "text/plain": [
       "               Open    High      Low   Close\n",
       "Date                                        \n",
       "2013-01-01  1410.60  1427.9  1408.30  1415.1\n",
       "2013-01-02  1421.00  1626.6  1416.15  1607.4\n",
       "2013-01-03  1632.55  1673.9  1613.05  1626.2"
      ]
     },
     "execution_count": 23,
     "metadata": {},
     "output_type": "execute_result"
    }
   ],
   "source": [
    "dataset.head(3)"
   ]
  },
  {
   "cell_type": "code",
   "execution_count": 22,
   "id": "872a1961-d535-4a28-8e12-d610462e45c2",
   "metadata": {},
   "outputs": [],
   "source": [
    "dataset.drop('Date',axis=1,inplace=True)"
   ]
  },
  {
   "cell_type": "code",
   "execution_count": null,
   "id": "36ef1124-d59e-4102-bfc9-bd3cc6897348",
   "metadata": {},
   "outputs": [],
   "source": []
  },
  {
   "cell_type": "code",
   "execution_count": 26,
   "id": "0bdced6a-1ce7-4bfc-9604-1006911928d0",
   "metadata": {},
   "outputs": [],
   "source": [
    "import numpy as np\n",
    "import pandas as pd\n",
    "from statsmodels.tsa.statespace.sarimax import SARIMAX\n",
    "from sklearn.metrics import r2_score\n",
    "from sklearn.preprocessing import StandardScaler\n",
    "\n",
    "data=dataset['High']\n",
    "exog=dataset[['Open','Low','Close']]\n",
    "\n"
   ]
  },
  {
   "cell_type": "code",
   "execution_count": 27,
   "id": "2f462183-337f-43b9-b8cd-e10b7aa64bb7",
   "metadata": {},
   "outputs": [
    {
     "data": {
      "text/plain": [
       "(2225,)"
      ]
     },
     "execution_count": 27,
     "metadata": {},
     "output_type": "execute_result"
    }
   ],
   "source": [
    "data.shape"
   ]
  },
  {
   "cell_type": "code",
   "execution_count": 36,
   "id": "d5a05899-24fa-429a-9279-f4f67267f65f",
   "metadata": {},
   "outputs": [
    {
     "data": {
      "text/plain": [
       "array([1427.9 , 1626.6 , 1673.9 , ...,  203.9 ,  222.  ,  220.45])"
      ]
     },
     "execution_count": 36,
     "metadata": {},
     "output_type": "execute_result"
    }
   ],
   "source": [
    "data.values.reshape(-1,1).flatten()"
   ]
  },
  {
   "cell_type": "code",
   "execution_count": 28,
   "id": "283719e3-145e-4bde-9290-ef41cac6fb12",
   "metadata": {},
   "outputs": [
    {
     "data": {
      "text/plain": [
       "(2225, 3)"
      ]
     },
     "execution_count": 28,
     "metadata": {},
     "output_type": "execute_result"
    }
   ],
   "source": [
    "exog.shape"
   ]
  },
  {
   "cell_type": "code",
   "execution_count": 39,
   "id": "3f57a7ed-f2c1-418d-980b-0b43ac1d03d8",
   "metadata": {},
   "outputs": [
    {
     "data": {
      "text/plain": [
       "array([ 2.47653118,  2.93140654,  3.0396884 , ..., -0.32551938,\n",
       "       -0.28408383, -0.28763218])"
      ]
     },
     "execution_count": 39,
     "metadata": {},
     "output_type": "execute_result"
    }
   ],
   "source": [
    "sc_d.fit_transform(data.values.reshape(-1,1)).flatten()"
   ]
  },
  {
   "cell_type": "code",
   "execution_count": 40,
   "id": "0aecf957-3ccf-4f8d-a784-5dc0b997a71e",
   "metadata": {},
   "outputs": [],
   "source": [
    "sc_d=StandardScaler()\n",
    "sc_e=StandardScaler()\n",
    "sc_data=sc_d.fit_transform(data.values.reshape(-1,1)).flatten()\n",
    "sc_exog=sc_e.fit_transform(exog)"
   ]
  },
  {
   "cell_type": "code",
   "execution_count": 41,
   "id": "00dd8d62-dbfd-4eb0-93a4-4752b500ee7f",
   "metadata": {},
   "outputs": [],
   "source": [
    "#Initialize variable for storing the best_score\n",
    "best_r2_score=-np.inf\n",
    "best_trend_r2 = None\n",
    "best_orders_r2 = None"
   ]
  },
  {
   "cell_type": "code",
   "execution_count": 44,
   "id": "1d7d9915-07b4-4ecb-b5a0-d8d641109a95",
   "metadata": {},
   "outputs": [],
   "source": [
    "import warnings\n",
    "warnings.filterwarnings(\"ignore\")"
   ]
  },
  {
   "cell_type": "code",
   "execution_count": 45,
   "id": "f4bd54e9-0916-42f2-aca6-55e1d3900e0c",
   "metadata": {},
   "outputs": [
    {
     "name": "stdout",
     "output_type": "stream",
     "text": [
      "Best_r2_score: 0.9998789415336244\n",
      "best_trend: n\n",
      "best_orders: (1, 0, 1)\n"
     ]
    }
   ],
   "source": [
    "# Parameters for SARIMAX model\n",
    "orders = [(1, 1, 1), (2, 1, 2), (1, 0, 1)]\n",
    "trends = ['n', 'c', 't', 'ct']\n",
    "for od in orders:\n",
    "    for td in trends:\n",
    "        model=SARIMAX(sc_data,order=od,trends=td,season_order=(0,0,1,12),exog=sc_exog)\n",
    "        model_fit=model.fit(disp=False)\n",
    "        y_pred=model_fit.predict(0,len(sc_data)-1,exog=sc_exog)\n",
    "        r2 = r2_score(sc_data, y_pred)\n",
    "\n",
    "        if r2>best_r2_score:\n",
    "            best_r2_score = r2\n",
    "            best_trend_r2 = td\n",
    "            best_orders_r2 = od\n",
    "print(f'Best_r2_score: {best_r2_score}')\n",
    "print(f'best_trend: {best_trend_r2}')\n",
    "print(f'best_orders: {best_orders_r2}')\n"
   ]
  },
  {
   "cell_type": "code",
   "execution_count": 49,
   "id": "36cf05b7-0580-47b2-8458-2b8e4ca1ea0b",
   "metadata": {},
   "outputs": [
    {
     "data": {
      "text/plain": [
       "3"
      ]
     },
     "execution_count": 49,
     "metadata": {},
     "output_type": "execute_result"
    }
   ],
   "source": [
    "sc_exog.shape[1]"
   ]
  },
  {
   "cell_type": "code",
   "execution_count": 51,
   "id": "6db84801-dcc1-4df6-a043-3d167097fceb",
   "metadata": {},
   "outputs": [
    {
     "data": {
      "text/plain": [
       "array([[0., 0., 0.],\n",
       "       [0., 0., 0.],\n",
       "       [0., 0., 0.],\n",
       "       [0., 0., 0.],\n",
       "       [0., 0., 0.],\n",
       "       [0., 0., 0.],\n",
       "       [0., 0., 0.],\n",
       "       [0., 0., 0.],\n",
       "       [0., 0., 0.],\n",
       "       [0., 0., 0.]])"
      ]
     },
     "execution_count": 51,
     "metadata": {},
     "output_type": "execute_result"
    }
   ],
   "source": [
    "forecast_steps = 10\n",
    "\n",
    "#Creating future exogeneous values\n",
    "forecast_exog=np.zeros((forecast_steps,sc_exog.shape[1]))\n",
    "forecast_exog"
   ]
  },
  {
   "cell_type": "code",
   "execution_count": 63,
   "id": "640c3598-4f7d-4396-ae65-ddb01ad3a391",
   "metadata": {},
   "outputs": [],
   "source": [
    "model=SARIMAX(sc_data,order=od,trends=td,season_order=(0,0,1,12),exog=sc_exog)\n",
    "model_fit=model.fit(disp=False)\n",
    "forecast_steps=10\n",
    "forecast=model_fit.forecast(forecast_steps,exog=forecast_exog)"
   ]
  },
  {
   "cell_type": "code",
   "execution_count": 64,
   "id": "4844387d-c705-4b6c-8c93-a4c4d93294f1",
   "metadata": {},
   "outputs": [
    {
     "data": {
      "text/plain": [
       "(10,)"
      ]
     },
     "execution_count": 64,
     "metadata": {},
     "output_type": "execute_result"
    }
   ],
   "source": [
    "forecast.shape"
   ]
  },
  {
   "cell_type": "code",
   "execution_count": 65,
   "id": "dff58b66-9784-4454-a577-af9914f33d22",
   "metadata": {},
   "outputs": [],
   "source": [
    "forecast_price=sc_d.inverse_transform(forecast.reshape(-1,1))"
   ]
  },
  {
   "cell_type": "code",
   "execution_count": 66,
   "id": "d0181f3c-bc76-4245-b9d5-b1dc044555f2",
   "metadata": {},
   "outputs": [
    {
     "data": {
      "text/plain": [
       "array([[346.08150449],\n",
       "       [346.08702933],\n",
       "       [346.09017554],\n",
       "       [346.09196722],\n",
       "       [346.09298752],\n",
       "       [346.09356855],\n",
       "       [346.09389942],\n",
       "       [346.09408785],\n",
       "       [346.09419515],\n",
       "       [346.09425625]])"
      ]
     },
     "execution_count": 66,
     "metadata": {},
     "output_type": "execute_result"
    }
   ],
   "source": [
    "forecast_price"
   ]
  },
  {
   "cell_type": "code",
   "execution_count": 61,
   "id": "0e081f21-07b6-4f51-a12a-d2f3637763bc",
   "metadata": {},
   "outputs": [
    {
     "data": {
      "text/plain": [
       "(2225,)"
      ]
     },
     "execution_count": 61,
     "metadata": {},
     "output_type": "execute_result"
    }
   ],
   "source": [
    "sc_data.shape"
   ]
  },
  {
   "cell_type": "code",
   "execution_count": 69,
   "id": "8de4a5bf-1be9-4f9c-a3ad-04fc34c03ace",
   "metadata": {},
   "outputs": [
    {
     "data": {
      "text/plain": [
       "array([[1427.9 ],\n",
       "       [1626.6 ],\n",
       "       [1673.9 ],\n",
       "       ...,\n",
       "       [ 203.9 ],\n",
       "       [ 222.  ],\n",
       "       [ 220.45]])"
      ]
     },
     "execution_count": 69,
     "metadata": {},
     "output_type": "execute_result"
    }
   ],
   "source": [
    "actual_value=sc_d.inverse_transform(sc_data.reshape(-1,1))\n",
    "actual_value"
   ]
  },
  {
   "cell_type": "code",
   "execution_count": 72,
   "id": "5e2f643f-8a31-432d-a1c8-21593c0b7ef1",
   "metadata": {},
   "outputs": [
    {
     "data": {
      "text/plain": [
       "(2225, 1)"
      ]
     },
     "execution_count": 72,
     "metadata": {},
     "output_type": "execute_result"
    }
   ],
   "source": [
    "predicted_value=sc_d.inverse_transform(y_pred.reshape(-1,1))\n",
    "predicted_value.shape"
   ]
  },
  {
   "cell_type": "code",
   "execution_count": 73,
   "id": "c668a81c-1708-4f5f-a625-757bf0094e5a",
   "metadata": {},
   "outputs": [],
   "source": [
    "import numpy as np\n",
    "forecast_plot=np.arange(len(sc_data),len(sc_data)+forecast_steps,1)"
   ]
  },
  {
   "cell_type": "code",
   "execution_count": 79,
   "id": "c985514f-b3b9-42e3-ad20-5f00c4d4b6cf",
   "metadata": {},
   "outputs": [
    {
     "data": {
      "image/png": "[encoded data removed]",
      "text/plain": [
       "<Figure size 640x480 with 1 Axes>"
      ]
     },
     "metadata": {},
     "output_type": "display_data"
    }
   ],
   "source": [
    "#Forecasting value for High price for next 10 value has predicted\n",
    "\n",
    "import matplotlib.pyplot as plt\n",
    "from matplotlib.ticker import FormatStrFormatter\n",
    "\n",
    "plt.plot(actual_value,label='Past_Data',color='blue')\n",
    "plt.plot(predicted_value,label='Predicted_Data',color='green')\n",
    "plt.plot(forecast_plot,forecast_price,label='Forecast_data',color='black')\n",
    "plt.gca().yaxis.set_major_formatter(FormatStrFormatter('%.0f'))\n",
    "\n",
    "plt.legend(loc='best')\n",
    "plt.show()"
   ]
  },
  {
   "cell_type": "code",
   "execution_count": null,
   "id": "0a53c85e-2c40-4c0a-823b-ea45fcb64798",
   "metadata": {},
   "outputs": [],
   "source": []
  },
  {
   "cell_type": "code",
   "execution_count": null,
   "id": "7bf42d52-8712-4a15-b154-941ffc930051",
   "metadata": {},
   "outputs": [],
   "source": []
  }
 ],
 "metadata": {
  "kernelspec": {
   "display_name": "Python 3 (ipykernel)",
   "language": "python",
   "name": "python3"
  },
  "language_info": {
   "codemirror_mode": {
    "name": "ipython",
    "version": 3
   },
   "file_extension": ".py",
   "mimetype": "text/x-python",
   "name": "python",
   "nbconvert_exporter": "python",
   "pygments_lexer": "ipython3",
   "version": "3.12.3"
  }
 },
 "nbformat": 4,
 "nbformat_minor": 5
}
